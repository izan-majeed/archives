{
 "cells": [
  {
   "cell_type": "code",
   "execution_count": null,
   "metadata": {},
   "outputs": [],
   "source": [
    "n = int(input())\n",
    "arr = sorted(map(int, input().strip().split()))\n",
    "mid = n//2\n",
    "\n",
    "mean = sum(arr)/n\n",
    "\n",
    "if n%2==0:\n",
    "    median = sum(arr[mid-1:mid+1]) / 2\n",
    "elif n%2!=0:\n",
    "    median = arr[mid]\n",
    "\n",
    "count = {}\n",
    "for i in arr:\n",
    "    count.setdefault(i, 0)\n",
    "    count[i]+=1\n",
    "mode = []\n",
    "for k,v in count.items():\n",
    "    if v == max(count.values()):\n",
    "        mode.append(k)\n",
    "mode = min(mode)\n",
    "\n",
    "print(f'{mean:.1f}\\n{median:.1f}\\n{mode}')\n"
   ]
  },
  {
   "cell_type": "code",
   "execution_count": null,
   "metadata": {},
   "outputs": [],
   "source": []
  }
 ],
 "metadata": {
  "kernelspec": {
   "display_name": "Python 3",
   "language": "python",
   "name": "python3"
  },
  "language_info": {
   "codemirror_mode": {
    "name": "ipython",
    "version": 3
   },
   "file_extension": ".py",
   "mimetype": "text/x-python",
   "name": "python",
   "nbconvert_exporter": "python",
   "pygments_lexer": "ipython3",
   "version": "3.7.6"
  }
 },
 "nbformat": 4,
 "nbformat_minor": 4
}
