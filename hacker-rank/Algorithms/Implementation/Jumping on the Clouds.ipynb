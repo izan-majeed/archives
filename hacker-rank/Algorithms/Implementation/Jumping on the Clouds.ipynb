{
 "cells": [
  {
   "cell_type": "code",
   "execution_count": null,
   "metadata": {},
   "outputs": [],
   "source": [
    "def jumpingOnClouds(c):\n",
    "    n = len(c)\n",
    "    i = 0\n",
    "    count = -1\n",
    "    \n",
    "    while (i < n):\n",
    "        if i<n-2 and c[i+2]==0:\n",
    "            i += 1\n",
    "        count += 1\n",
    "        i += 1\n",
    "        \n",
    "    return count"
   ]
  }
 ],
 "metadata": {
  "kernelspec": {
   "display_name": "Python 3",
   "language": "python",
   "name": "python3"
  },
  "language_info": {
   "codemirror_mode": {
    "name": "ipython",
    "version": 3
   },
   "file_extension": ".py",
   "mimetype": "text/x-python",
   "name": "python",
   "nbconvert_exporter": "python",
   "pygments_lexer": "ipython3",
   "version": "3.7.6"
  }
 },
 "nbformat": 4,
 "nbformat_minor": 4
}
