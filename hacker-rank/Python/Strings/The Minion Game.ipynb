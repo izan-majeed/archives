{
 "cells": [
  {
   "cell_type": "code",
   "execution_count": null,
   "metadata": {},
   "outputs": [],
   "source": [
    "def minion_game(string):\n",
    "    vowel = 'A E I O U'.split()\n",
    "    stuart= 0\n",
    "    kevin = 0\n",
    "    \n",
    "    for i in range(len(string)):\n",
    "        if (string[i] in vowel):\n",
    "            kevin += (len(s)-i)\n",
    "        else:\n",
    "            stuart += (len(s)-i)\n",
    "    if stuart>kevin:\n",
    "        print('Stuart', stuart)\n",
    "    elif stuart == kevin:\n",
    "        print('Draw')\n",
    "    else:\n",
    "        print('Kevin', kevin)"
   ]
  },
  {
   "cell_type": "code",
   "execution_count": null,
   "metadata": {},
   "outputs": [],
   "source": []
  }
 ],
 "metadata": {
  "kernelspec": {
   "display_name": "Python 3",
   "language": "python",
   "name": "python3"
  },
  "language_info": {
   "codemirror_mode": {
    "name": "ipython",
    "version": 3
   },
   "file_extension": ".py",
   "mimetype": "text/x-python",
   "name": "python",
   "nbconvert_exporter": "python",
   "pygments_lexer": "ipython3",
   "version": "3.7.6"
  }
 },
 "nbformat": 4,
 "nbformat_minor": 4
}
