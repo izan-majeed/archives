{
 "cells": [
  {
   "cell_type": "code",
   "execution_count": null,
   "metadata": {},
   "outputs": [],
   "source": [
    "def topView(root):\n",
    "    def _topView(node, depth, pos):\n",
    "        if node.left:\n",
    "            _topView(node.left, depth+1, pos-1)\n",
    "        if node.right:\n",
    "            _topView(node.right, depth+1, pos+1)\n",
    "        if (pos in ans and depth < ans[pos][0]) or pos not in ans:\n",
    "            ans[pos] = (depth, node)\n",
    "\n",
    "    ans = {}\n",
    "    _topView(root, 0, 0)\n",
    "    \n",
    "    for i in sorted(ans.keys()):\n",
    "        print(ans[i][1].info, end=' ')"
   ]
  },
  {
   "cell_type": "code",
   "execution_count": null,
   "metadata": {},
   "outputs": [],
   "source": []
  }
 ],
 "metadata": {
  "kernelspec": {
   "display_name": "Python 3",
   "language": "python",
   "name": "python3"
  },
  "language_info": {
   "codemirror_mode": {
    "name": "ipython",
    "version": 3
   },
   "file_extension": ".py",
   "mimetype": "text/x-python",
   "name": "python",
   "nbconvert_exporter": "python",
   "pygments_lexer": "ipython3",
   "version": "3.7.7"
  }
 },
 "nbformat": 4,
 "nbformat_minor": 4
}
