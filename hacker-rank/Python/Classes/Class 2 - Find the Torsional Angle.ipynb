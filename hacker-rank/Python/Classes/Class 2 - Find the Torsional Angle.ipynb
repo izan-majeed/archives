{
 "cells": [
  {
   "cell_type": "code",
   "execution_count": null,
   "metadata": {},
   "outputs": [],
   "source": [
    "import math\n",
    "\n",
    "class Points(object):\n",
    "    def __init__(self, x, y, z):\n",
    "        self.x = x\n",
    "        self.y = y\n",
    "        self.z =z\n",
    "\n",
    "    def __sub__(self, no):\n",
    "        new_point = Points(self.x-no.x, self.y-no.y, self.z-no.z)\n",
    "        return new_point\n",
    "\n",
    "    def dot(self, no):\n",
    "        value = (self.x*no.x) + (self.y*no.y) + (self.z*no.z)\n",
    "        return value\n",
    "\n",
    "    def cross(self, no):\n",
    "        new_point = Points(self.y*no.z - self.z*no.y, \n",
    "                      self.z*no.x - self.x*no.z,\n",
    "                      self.x*no.y - self.y*no.x)\n",
    "        return new_point\n",
    "\n",
    "    def absolute(self):\n",
    "        return math.sqrt(self.x**2 + self.y**2 + self.z**2)"
   ]
  },
  {
   "cell_type": "code",
   "execution_count": null,
   "metadata": {},
   "outputs": [],
   "source": []
  }
 ],
 "metadata": {
  "kernelspec": {
   "display_name": "Python 3",
   "language": "python",
   "name": "python3"
  },
  "language_info": {
   "codemirror_mode": {
    "name": "ipython",
    "version": 3
   },
   "file_extension": ".py",
   "mimetype": "text/x-python",
   "name": "python",
   "nbconvert_exporter": "python",
   "pygments_lexer": "ipython3",
   "version": "3.7.6"
  }
 },
 "nbformat": 4,
 "nbformat_minor": 4
}
