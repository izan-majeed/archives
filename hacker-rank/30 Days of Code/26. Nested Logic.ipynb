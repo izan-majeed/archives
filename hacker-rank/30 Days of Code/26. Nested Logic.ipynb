{
 "cells": [
  {
   "cell_type": "code",
   "execution_count": null,
   "metadata": {},
   "outputs": [],
   "source": [
    "returned_date = list(map(int,input().split(' ')))\n",
    "expected_date = list(map(int,input().split(' ')))\n",
    "fine = 0\n",
    "\n",
    "if returned_date[2] > expected_date[2]:\n",
    "    fine = 10000\n",
    "    \n",
    "elif returned_date[2] == expected_date[2]:\n",
    "    if returned_date[1] > expected_date[1]:\n",
    "        fine = (returned_date[1] - expected_date[1])*500\n",
    "    elif returned_date[1] == expected_date[1]:\n",
    "        if returned_date[0] > expected_date[0]:\n",
    "            fine = (returned_date[0] - expected_date[0])*15\n",
    "    \n",
    "print(fine)"
   ]
  },
  {
   "cell_type": "code",
   "execution_count": null,
   "metadata": {},
   "outputs": [],
   "source": []
  }
 ],
 "metadata": {
  "kernelspec": {
   "display_name": "Python 3",
   "language": "python",
   "name": "python3"
  },
  "language_info": {
   "codemirror_mode": {
    "name": "ipython",
    "version": 3
   },
   "file_extension": ".py",
   "mimetype": "text/x-python",
   "name": "python",
   "nbconvert_exporter": "python",
   "pygments_lexer": "ipython3",
   "version": "3.7.6"
  }
 },
 "nbformat": 4,
 "nbformat_minor": 4
}
