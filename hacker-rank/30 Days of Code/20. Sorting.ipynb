{
 "cells": [
  {
   "cell_type": "code",
   "execution_count": null,
   "metadata": {},
   "outputs": [],
   "source": [
    "n = int(input().strip())\n",
    "arr = list(map(int, input().strip().split(' ')))\n",
    "\n",
    "n = len (arr)\n",
    "check = 1\n",
    "swap = 0\n",
    "\n",
    "for i in range (n-1, 0, -1):\n",
    "    if check:\n",
    "        check = 0\n",
    "        for j in range (i):\n",
    "            if arr[j] > arr[j+1]:\n",
    "                check = 1\n",
    "                swap += 1\n",
    "                arr[j], arr[j+1] = arr[j+1], arr[j]\n",
    "                \n",
    "print(f'''Array is sorted in {swap} swaps.\n",
    "First Element: {arr[0]}\n",
    "Last Element: {arr[-1]}''')"
   ]
  },
  {
   "cell_type": "code",
   "execution_count": null,
   "metadata": {},
   "outputs": [],
   "source": []
  }
 ],
 "metadata": {
  "kernelspec": {
   "display_name": "Python 3",
   "language": "python",
   "name": "python3"
  },
  "language_info": {
   "codemirror_mode": {
    "name": "ipython",
    "version": 3
   },
   "file_extension": ".py",
   "mimetype": "text/x-python",
   "name": "python",
   "nbconvert_exporter": "python",
   "pygments_lexer": "ipython3",
   "version": "3.7.6"
  }
 },
 "nbformat": 4,
 "nbformat_minor": 4
}
