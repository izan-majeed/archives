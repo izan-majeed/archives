

def opposite(a):
    b = a%12
    if b==1:
        print(a+11,'WS')
    elif b==0:
        print(a-11,'WS')
        
    elif b==6:
        print(a+1,'WS')
    elif b==7:
        print(a-1,'WS')
    
    elif b==5:
        print(a+3,'MS')
    elif b==8:
        print(a-3,'MS')
        
    elif b==3:
        print(a+7,'AS')
    elif b==10:
        print(a-7,'AS')
        
    elif b==4:
        print(a+5,'AS')
    elif b==9:
        print(a-5,'AS')
        
    elif b==2:
        print(a+9,'MS')
    else:
        print(a-9,'MS')


for _ in range(int(input())):
    opposite(int(input()))

