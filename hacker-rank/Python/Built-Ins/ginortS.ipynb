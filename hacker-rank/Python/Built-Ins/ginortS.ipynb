{
 "cells": [
  {
   "cell_type": "code",
   "execution_count": 1,
   "metadata": {},
   "outputs": [
    {
     "name": "stdout",
     "output_type": "stream",
     "text": [
      "Sorting123\n",
      "ginortS132\n"
     ]
    }
   ],
   "source": [
    "s = input()\n",
    "lower = upper = odd = even = str()\n",
    "\n",
    "for i in s:\n",
    "    if i.isalpha():\n",
    "        if i==i.lower():\n",
    "            lower += i\n",
    "        else:\n",
    "            upper += i\n",
    "        \n",
    "    elif i.isnumeric():\n",
    "        if int(i)%2 != 0:\n",
    "            odd += i\n",
    "        else:\n",
    "            even += i\n",
    "            \n",
    "result = ''.join(sorted(lower)+sorted(upper)+sorted(odd)+sorted(even))\n",
    "print(result)"
   ]
  },
  {
   "cell_type": "code",
   "execution_count": 2,
   "metadata": {},
   "outputs": [
    {
     "name": "stdout",
     "output_type": "stream",
     "text": [
      "Sorting123\n",
      "ginortS132\n"
     ]
    }
   ],
   "source": [
    "import string\n",
    "l = f'{string.ascii_lowercase}{string.ascii_uppercase}{1357902468}'\n",
    "print(*sorted(input(), key=l.index), sep =\"\")"
   ]
  },
  {
   "cell_type": "code",
   "execution_count": null,
   "metadata": {},
   "outputs": [],
   "source": []
  }
 ],
 "metadata": {
  "kernelspec": {
   "display_name": "Python 3",
   "language": "python",
   "name": "python3"
  },
  "language_info": {
   "codemirror_mode": {
    "name": "ipython",
    "version": 3
   },
   "file_extension": ".py",
   "mimetype": "text/x-python",
   "name": "python",
   "nbconvert_exporter": "python",
   "pygments_lexer": "ipython3",
   "version": "3.7.6"
  }
 },
 "nbformat": 4,
 "nbformat_minor": 4
}
