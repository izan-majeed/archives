{
 "cells": [
  {
   "cell_type": "code",
   "execution_count": null,
   "metadata": {},
   "outputs": [],
   "source": [
    "import math\n",
    "\n",
    "def prime_list(n, l):\n",
    "    last = l[-1]\n",
    "    \n",
    "    while len(l) < n:\n",
    "        last += 2\n",
    "        root_of_last = math.floor(last**0.5)\n",
    "        \n",
    "        for prime in l:\n",
    "            if last%prime == 0:\n",
    "                break  \n",
    "            if root_of_last < prime:\n",
    "                l.append(last)\n",
    "                break\n",
    "       \n",
    "    return l\n",
    "\n",
    "\n",
    "l = [2,3]\n",
    "for _ in range(int(input())):\n",
    "    n = int(input())\n",
    "    if len(l) < n:\n",
    "        l = prime_list(n, l)\n",
    "    print(l[n-1])"
   ]
  },
  {
   "cell_type": "code",
   "execution_count": null,
   "metadata": {},
   "outputs": [],
   "source": []
  }
 ],
 "metadata": {
  "kernelspec": {
   "display_name": "Python 3",
   "language": "python",
   "name": "python3"
  },
  "language_info": {
   "codemirror_mode": {
    "name": "ipython",
    "version": 3
   },
   "file_extension": ".py",
   "mimetype": "text/x-python",
   "name": "python",
   "nbconvert_exporter": "python",
   "pygments_lexer": "ipython3",
   "version": "3.7.4"
  }
 },
 "nbformat": 4,
 "nbformat_minor": 4
}
