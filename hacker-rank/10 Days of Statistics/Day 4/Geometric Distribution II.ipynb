{
 "cells": [
  {
   "cell_type": "code",
   "execution_count": 3,
   "metadata": {},
   "outputs": [
    {
     "name": "stdout",
     "output_type": "stream",
     "text": [
      "1 3\n",
      "5\n",
      "0.868\n"
     ]
    }
   ],
   "source": [
    "def g(n, p):\n",
    "    return (p**1) * ((1-p)**(n-1))\n",
    "\n",
    "num, denom = map(int, input().split())\n",
    "p = num/denom\n",
    "n = int(input())\n",
    "\n",
    "print(round(sum([g(i, p) for i in range(1, 6)]), 3))"
   ]
  },
  {
   "cell_type": "code",
   "execution_count": null,
   "metadata": {},
   "outputs": [],
   "source": []
  }
 ],
 "metadata": {
  "kernelspec": {
   "display_name": "Python 3",
   "language": "python",
   "name": "python3"
  },
  "language_info": {
   "codemirror_mode": {
    "name": "ipython",
    "version": 3
   },
   "file_extension": ".py",
   "mimetype": "text/x-python",
   "name": "python",
   "nbconvert_exporter": "python",
   "pygments_lexer": "ipython3",
   "version": "3.7.6"
  }
 },
 "nbformat": 4,
 "nbformat_minor": 4
}
