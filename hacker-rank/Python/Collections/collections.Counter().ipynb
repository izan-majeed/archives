{
 "cells": [
  {
   "cell_type": "code",
   "execution_count": 1,
   "metadata": {},
   "outputs": [
    {
     "name": "stdout",
     "output_type": "stream",
     "text": [
      "10\n",
      "2 3 4 5 6 8 7 6 5 18\n",
      "6\n",
      "6 55\n",
      "6 45\n",
      "6 55\n",
      "4 40\n",
      "18 60\n",
      "10 50\n",
      "200\n"
     ]
    }
   ],
   "source": [
    "from collections import Counter\n",
    "n = int(input())\n",
    "shoes = Counter(map(int, input().strip().split()))\n",
    "m = int(input())\n",
    "\n",
    "result = {}\n",
    "for _ in range(m):\n",
    "    k, v = map(int, input().strip().split())\n",
    "    if shoes[k]!=0:\n",
    "        result.setdefault(k, 0)\n",
    "        result[k] += v\n",
    "        shoes[k] -= 1\n",
    "print(sum(result.values()))"
   ]
  }
 ],
 "metadata": {
  "kernelspec": {
   "display_name": "Python 3",
   "language": "python",
   "name": "python3"
  },
  "language_info": {
   "codemirror_mode": {
    "name": "ipython",
    "version": 3
   },
   "file_extension": ".py",
   "mimetype": "text/x-python",
   "name": "python",
   "nbconvert_exporter": "python",
   "pygments_lexer": "ipython3",
   "version": "3.7.6"
  }
 },
 "nbformat": 4,
 "nbformat_minor": 4
}
