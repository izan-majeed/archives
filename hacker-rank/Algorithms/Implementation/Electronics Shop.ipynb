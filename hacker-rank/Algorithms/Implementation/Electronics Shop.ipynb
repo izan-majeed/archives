{
 "cells": [
  {
   "cell_type": "code",
   "execution_count": null,
   "metadata": {},
   "outputs": [],
   "source": [
    "def getMoneySpent(keyboards, drives, b):\n",
    "    l = []\n",
    "    for k in keyboards:\n",
    "        for d in drives:\n",
    "            if k+d <= b:\n",
    "                l.append(k+d)\n",
    "                \n",
    "    return max(l) if len(l)>0 else -1\n",
    "\n",
    "\n",
    "b, n, m = map(int, input().split())\n",
    "keyboards = list(map(int, input().split()))\n",
    "drives = list(map(int, input().split()))\n",
    "moneySpent = getMoneySpent(keyboards, drives, b)\n",
    "\n",
    "print(moneySpent)"
   ]
  },
  {
   "cell_type": "code",
   "execution_count": null,
   "metadata": {},
   "outputs": [],
   "source": []
  }
 ],
 "metadata": {
  "kernelspec": {
   "display_name": "Python 3",
   "language": "python",
   "name": "python3"
  },
  "language_info": {
   "codemirror_mode": {
    "name": "ipython",
    "version": 3
   },
   "file_extension": ".py",
   "mimetype": "text/x-python",
   "name": "python",
   "nbconvert_exporter": "python",
   "pygments_lexer": "ipython3",
   "version": "3.7.7"
  }
 },
 "nbformat": 4,
 "nbformat_minor": 4
}
