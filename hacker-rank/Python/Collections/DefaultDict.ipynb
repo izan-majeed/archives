{
 "cells": [
  {
   "cell_type": "code",
   "execution_count": null,
   "metadata": {},
   "outputs": [],
   "source": [
    "#When the list class is passed as the default_factory argument\n",
    "#then a defaultdict is created with the values that are list\n",
    "\n",
    "from collections import defaultdict\n",
    "\n",
    "n, m = map(int, input().split())\n",
    "A = defaultdict(list)\n",
    "\n",
    "for i in range(n):\n",
    "    A[input()].append(i+1)\n",
    "\n",
    "B = [input() for _ in range(m)]\n",
    "\n",
    "for i in B:\n",
    "    if i in A.keys():\n",
    "        print (\" \".join(map(str,A[i])))\n",
    "    else:\n",
    "        print(-1)"
   ]
  },
  {
   "cell_type": "code",
   "execution_count": null,
   "metadata": {},
   "outputs": [],
   "source": []
  }
 ],
 "metadata": {
  "kernelspec": {
   "display_name": "Python 3",
   "language": "python",
   "name": "python3"
  },
  "language_info": {
   "codemirror_mode": {
    "name": "ipython",
    "version": 3
   },
   "file_extension": ".py",
   "mimetype": "text/x-python",
   "name": "python",
   "nbconvert_exporter": "python",
   "pygments_lexer": "ipython3",
   "version": "3.7.6"
  }
 },
 "nbformat": 4,
 "nbformat_minor": 4
}
