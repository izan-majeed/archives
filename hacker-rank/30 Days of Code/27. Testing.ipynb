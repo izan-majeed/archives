{
 "cells": [
  {
   "cell_type": "code",
   "execution_count": null,
   "metadata": {},
   "outputs": [],
   "source": [
    "class TestDataEmptyArray(object):\n",
    "    @staticmethod\n",
    "    def get_array():\n",
    "        return []\n",
    "\n",
    "class TestDataUniqueValues(object):\n",
    "    @staticmethod\n",
    "    def get_array():\n",
    "        return [11, 22, 33]\n",
    "\n",
    "    @staticmethod\n",
    "    def get_expected_result():\n",
    "        return 0\n",
    "\n",
    "class TestDataExactlyTwoDifferentMinimums(object):\n",
    "    @staticmethod\n",
    "    def get_array():\n",
    "        return [1, 2, 3, -4, 5, 6, -4]\n",
    "\n",
    "    @staticmethod\n",
    "    def get_expected_result():\n",
    "        return 3"
   ]
  },
  {
   "cell_type": "code",
   "execution_count": null,
   "metadata": {},
   "outputs": [],
   "source": []
  }
 ],
 "metadata": {
  "kernelspec": {
   "display_name": "Python 3",
   "language": "python",
   "name": "python3"
  },
  "language_info": {
   "codemirror_mode": {
    "name": "ipython",
    "version": 3
   },
   "file_extension": ".py",
   "mimetype": "text/x-python",
   "name": "python",
   "nbconvert_exporter": "python",
   "pygments_lexer": "ipython3",
   "version": "3.7.6"
  }
 },
 "nbformat": 4,
 "nbformat_minor": 4
}
