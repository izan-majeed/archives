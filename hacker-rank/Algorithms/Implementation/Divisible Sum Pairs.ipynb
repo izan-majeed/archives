{
 "cells": [
  {
   "cell_type": "code",
   "execution_count": null,
   "metadata": {},
   "outputs": [],
   "source": [
    "def divisibleSumPairs(n, k, a):\n",
    "    count = 0\n",
    "    for i in range(n):\n",
    "        for j in range(i+1, n):\n",
    "            if (a[i]+a[j])%k == 0:\n",
    "                count +=1\n",
    "    return count\n",
    "\n",
    "n, k = map(int, input().split())\n",
    "a = sorted(map(int, input().split()))\n",
    "result = divisibleSumPairs(n, k, a)\n",
    "print(result)"
   ]
  },
  {
   "cell_type": "code",
   "execution_count": null,
   "metadata": {},
   "outputs": [],
   "source": []
  }
 ],
 "metadata": {
  "kernelspec": {
   "display_name": "Python 3",
   "language": "python",
   "name": "python3"
  },
  "language_info": {
   "codemirror_mode": {
    "name": "ipython",
    "version": 3
   },
   "file_extension": ".py",
   "mimetype": "text/x-python",
   "name": "python",
   "nbconvert_exporter": "python",
   "pygments_lexer": "ipython3",
   "version": "3.7.4"
  }
 },
 "nbformat": 4,
 "nbformat_minor": 2
}
