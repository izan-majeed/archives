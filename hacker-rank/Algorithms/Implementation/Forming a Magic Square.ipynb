{
 "cells": [
  {
   "cell_type": "code",
   "execution_count": null,
   "metadata": {},
   "outputs": [],
   "source": [
    "def formingMagicSquare(s):\n",
    "    magic_matrices = [\n",
    "    [[8, 1, 6], [3, 5, 7], [4, 9, 2]],\n",
    "    [[6, 1, 8], [7, 5, 3], [2, 9, 4]],\n",
    "    [[4, 9, 2], [3, 5, 7], [8, 1, 6]],\n",
    "    [[2, 9, 4], [7, 5, 3], [6, 1, 8]], \n",
    "    [[8, 3, 4], [1, 5, 9], [6, 7, 2]],\n",
    "    [[4, 3, 8], [9, 5, 1], [2, 7, 6]], \n",
    "    [[6, 7, 2], [1, 5, 9], [8, 3, 4]], \n",
    "    [[2, 7, 6], [9, 5, 1], [4, 3, 8]],\n",
    "    ]\n",
    "    \n",
    "    total = []\n",
    "    for a in magic_matrices:\n",
    "        cost = 0\n",
    "        for a_row, s_row in zip(a, s):\n",
    "            for i, j in zip(a_row, s_row):\n",
    "                if i != j:\n",
    "                    cost += abs(i-j)\n",
    "        total.append(cost)\n",
    "    return min(total)\n",
    "\n",
    "    \n",
    "s = []\n",
    "for _ in range(3):\n",
    "    s.append(list(map(int, input().split())))\n",
    "result = formingMagicSquare(s)\n",
    "print(result)"
   ]
  },
  {
   "cell_type": "code",
   "execution_count": null,
   "metadata": {},
   "outputs": [],
   "source": []
  }
 ],
 "metadata": {
  "kernelspec": {
   "display_name": "Python 3",
   "language": "python",
   "name": "python3"
  },
  "language_info": {
   "codemirror_mode": {
    "name": "ipython",
    "version": 3
   },
   "file_extension": ".py",
   "mimetype": "text/x-python",
   "name": "python",
   "nbconvert_exporter": "python",
   "pygments_lexer": "ipython3",
   "version": "3.7.7"
  }
 },
 "nbformat": 4,
 "nbformat_minor": 4
}
