{
 "cells": [
  {
   "cell_type": "code",
   "execution_count": null,
   "metadata": {},
   "outputs": [],
   "source": [
    "#https://stackoverflow.com/questions/49883177/how-does-lru-cache-from-functools-work\n",
    "\n",
    "import functools\n",
    "@functools.lru_cache(maxsize=None)\n",
    "def fib(n):\n",
    "    if n<=2:\n",
    "        return 1\n",
    "    else:\n",
    "        return fib(n-1) + fib(n-2)\n",
    "\n",
    "t = int(input().strip())\n",
    "for a0 in range(t):\n",
    "    n = int(input().strip())\n",
    "    result = 0\n",
    "    \n",
    "#every third number is even in fib seq (0 excluded)\n",
    "    for i in range(3,n,3):\n",
    "        x = fib(i)\n",
    "        if x<=n:\n",
    "            result += x\n",
    "        else:\n",
    "            break\n",
    "    print(result)"
   ]
  },
  {
   "cell_type": "code",
   "execution_count": null,
   "metadata": {},
   "outputs": [],
   "source": []
  }
 ],
 "metadata": {
  "kernelspec": {
   "display_name": "Python 3",
   "language": "python",
   "name": "python3"
  },
  "language_info": {
   "codemirror_mode": {
    "name": "ipython",
    "version": 3
   },
   "file_extension": ".py",
   "mimetype": "text/x-python",
   "name": "python",
   "nbconvert_exporter": "python",
   "pygments_lexer": "ipython3",
   "version": "3.7.6"
  }
 },
 "nbformat": 4,
 "nbformat_minor": 4
}
