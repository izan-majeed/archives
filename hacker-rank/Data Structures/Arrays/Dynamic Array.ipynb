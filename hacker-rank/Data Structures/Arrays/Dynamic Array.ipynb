{
 "cells": [
  {
   "cell_type": "code",
   "execution_count": 2,
   "metadata": {},
   "outputs": [
    {
     "data": {
      "text/plain": [
       "1"
      ]
     },
     "execution_count": 2,
     "metadata": {},
     "output_type": "execute_result"
    }
   ],
   "source": [
    "def dynamicArray(n, q):\n",
    "    last_answer = 0\n",
    "    N = [[] for _ in range(n)]\n",
    "    \n",
    "    for _ in range(q):\n",
    "        qid, x, y =  map(int, input().split())\n",
    "        seq = (x^last_answer) % n\n",
    "        \n",
    "        if qid == 1:\n",
    "            N[seq].append(y)\n",
    "            \n",
    "        elif qid == 2:\n",
    "            size = len(N[seq])\n",
    "            value = N[seq][y%size]\n",
    "            last_answer = value\n",
    "            print (last_answer)\n",
    "            \n",
    "\n",
    "n, q = map(int, input().split())\n",
    "dynamicArray(n, q)"
   ]
  },
  {
   "cell_type": "code",
   "execution_count": null,
   "metadata": {},
   "outputs": [],
   "source": []
  }
 ],
 "metadata": {
  "kernelspec": {
   "display_name": "Python 3",
   "language": "python",
   "name": "python3"
  },
  "language_info": {
   "codemirror_mode": {
    "name": "ipython",
    "version": 3
   },
   "file_extension": ".py",
   "mimetype": "text/x-python",
   "name": "python",
   "nbconvert_exporter": "python",
   "pygments_lexer": "ipython3",
   "version": "3.7.6"
  }
 },
 "nbformat": 4,
 "nbformat_minor": 4
}
