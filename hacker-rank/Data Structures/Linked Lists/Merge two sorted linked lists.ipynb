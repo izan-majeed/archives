{
 "cells": [
  {
   "cell_type": "code",
   "execution_count": null,
   "metadata": {},
   "outputs": [],
   "source": [
    "def mergeLists(head1, head2):\n",
    "    tmp = head1\n",
    "    tmp2 = head2\n",
    "    tmp3 = SinglyLinkedList()\n",
    "    \n",
    "    while tmp or tmp2:\n",
    "        if tmp and not tmp2:\n",
    "            tmp3.insert_node(tmp.data)\n",
    "            tmp = tmp.next\n",
    "            \n",
    "        elif tmp2 and not tmp:\n",
    "            tmp3.insert_node(tmp2.data)\n",
    "            tmp2 = tmp2.next\n",
    "            \n",
    "        elif tmp.data < tmp2.data:\n",
    "            tmp3.insert_node(tmp.data)\n",
    "            tmp = tmp.next\n",
    "            \n",
    "        else:\n",
    "            tmp3.insert_node(tmp2.data)\n",
    "            tmp2 = tmp2.next\n",
    "             \n",
    "    return tmp3.head"
   ]
  },
  {
   "cell_type": "code",
   "execution_count": null,
   "metadata": {},
   "outputs": [],
   "source": []
  }
 ],
 "metadata": {
  "kernelspec": {
   "display_name": "Python 3",
   "language": "python",
   "name": "python3"
  },
  "language_info": {
   "codemirror_mode": {
    "name": "ipython",
    "version": 3
   },
   "file_extension": ".py",
   "mimetype": "text/x-python",
   "name": "python",
   "nbconvert_exporter": "python",
   "pygments_lexer": "ipython3",
   "version": "3.7.4"
  }
 },
 "nbformat": 4,
 "nbformat_minor": 2
}
