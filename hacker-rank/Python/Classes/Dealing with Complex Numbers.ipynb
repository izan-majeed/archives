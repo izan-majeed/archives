{
 "cells": [
  {
   "cell_type": "code",
   "execution_count": 1,
   "metadata": {},
   "outputs": [],
   "source": [
    "class Complex(object):\n",
    "    def __init__(self, real, imag):\n",
    "        self.real = real\n",
    "        self.imag = imag\n",
    "\n",
    "    def __add__(self, no):\n",
    "        return Complex(self.real+no.real, self.imag+no.imag)\n",
    "\n",
    "    def __sub__(self, no):\n",
    "        return Complex(self.real-no.real, self.imag-no.imag)\n",
    "\n",
    "    def __mul__(self, no):\n",
    "        z1 = complex(self.real, self.imag)\n",
    "        z2 = complex(no.real, no.imag)\n",
    "        z = z1*z2\n",
    "        return Complex(z.real, z.imag)\n",
    "\n",
    "    def __truediv__(self, no):\n",
    "        a = self.real\n",
    "        b = self.imag\n",
    "        c = no.real\n",
    "        d = no.imag\n",
    "        real_numerator = a*c + b*d\n",
    "        imag_numerator = b*c - a*d\n",
    "        denom = c*c + d*d\n",
    "        real_div = real_numerator / denom\n",
    "        imag_div = imag_numerator / denom\n",
    "        return Complex(real_div, imag_div)\n",
    "\n",
    "    def mod(self):\n",
    "        return Complex((self.real**2+self.imag**2)**0.5, 0)\n",
    "\n",
    "    def __str__(self) :\n",
    "        return '{0:.2f}{1:+.2f}i'.format(self.real, self.imag)"
   ]
  },
  {
   "cell_type": "code",
   "execution_count": null,
   "metadata": {},
   "outputs": [],
   "source": []
  }
 ],
 "metadata": {
  "kernelspec": {
   "display_name": "Python 3",
   "language": "python",
   "name": "python3"
  },
  "language_info": {
   "codemirror_mode": {
    "name": "ipython",
    "version": 3
   },
   "file_extension": ".py",
   "mimetype": "text/x-python",
   "name": "python",
   "nbconvert_exporter": "python",
   "pygments_lexer": "ipython3",
   "version": "3.7.6"
  }
 },
 "nbformat": 4,
 "nbformat_minor": 4
}
