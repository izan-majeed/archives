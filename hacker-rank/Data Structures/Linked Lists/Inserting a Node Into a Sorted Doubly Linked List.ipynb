{
 "cells": [
  {
   "cell_type": "code",
   "execution_count": null,
   "metadata": {},
   "outputs": [],
   "source": [
    "def sortedInsert(head, data):\n",
    "    node = DoublyLinkedListNode(data)\n",
    "    temp = head\n",
    "        \n",
    "    if data <= temp.data:\n",
    "        node.next = temp\n",
    "        temp.prev = node\n",
    "        return node\n",
    "    \n",
    "    while temp.next:\n",
    "        if data >= temp.data  and temp.next.data > data:\n",
    "            node.next = temp.next\n",
    "            temp.next.prev = node\n",
    "            node.prev = temp\n",
    "            temp.next = node\n",
    "            return head\n",
    "        temp = temp.next\n",
    "        \n",
    "    if data >= temp.data:\n",
    "        node.prev = temp\n",
    "        temp.next = node\n",
    "        return head"
   ]
  },
  {
   "cell_type": "code",
   "execution_count": null,
   "metadata": {},
   "outputs": [],
   "source": []
  }
 ],
 "metadata": {
  "kernelspec": {
   "display_name": "Python 3",
   "language": "python",
   "name": "python3"
  },
  "language_info": {
   "codemirror_mode": {
    "name": "ipython",
    "version": 3
   },
   "file_extension": ".py",
   "mimetype": "text/x-python",
   "name": "python",
   "nbconvert_exporter": "python",
   "pygments_lexer": "ipython3",
   "version": "3.7.7"
  }
 },
 "nbformat": 4,
 "nbformat_minor": 4
}
