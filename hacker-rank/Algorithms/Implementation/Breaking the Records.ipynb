{
 "cells": [
  {
   "cell_type": "code",
   "execution_count": null,
   "metadata": {},
   "outputs": [],
   "source": [
    "n = int(input())\n",
    "scores = list(map(int, input().split()))\n",
    "cur_max = cur_min = scores[0]\n",
    "min_count = max_count = 0\n",
    "\n",
    "for i in range(1, n):\n",
    "    if scores[i] > cur_max:\n",
    "        max_count += 1\n",
    "        cur_max = scores[i]\n",
    "\n",
    "    elif scores[i] < cur_min:\n",
    "        min_count += 1\n",
    "        cur_min = scores[i]\n",
    "            \n",
    "print(max_count, min_count)"
   ]
  },
  {
   "cell_type": "code",
   "execution_count": null,
   "metadata": {},
   "outputs": [],
   "source": []
  }
 ],
 "metadata": {
  "kernelspec": {
   "display_name": "Python 3",
   "language": "python",
   "name": "python3"
  },
  "language_info": {
   "codemirror_mode": {
    "name": "ipython",
    "version": 3
   },
   "file_extension": ".py",
   "mimetype": "text/x-python",
   "name": "python",
   "nbconvert_exporter": "python",
   "pygments_lexer": "ipython3",
   "version": "3.7.6"
  }
 },
 "nbformat": 4,
 "nbformat_minor": 4
}
