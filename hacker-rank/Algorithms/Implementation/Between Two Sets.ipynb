{
 "cells": [
  {
   "cell_type": "code",
   "execution_count": null,
   "metadata": {},
   "outputs": [],
   "source": [
    "from math import gcd\n",
    "\n",
    "def getTotalX(a, b):\n",
    "    lcm_a = a[0]\n",
    "    for i in a[1:]:\n",
    "        lcm_a = lcm_a*i // gcd(lcm_a, i)\n",
    "\n",
    "    gcd_b = b[0]\n",
    "    for i in b[1:]:\n",
    "        gcd_b = gcd(gcd_b, i)\n",
    "\n",
    "    count = 0\n",
    "    for i in range(lcm_a, gcd_b+1, lcm_a):\n",
    "        if gcd_b%i == 0:\n",
    "            count += 1\n",
    "    return count\n",
    "    \n",
    "\n",
    "n, m = map(int, input().split())\n",
    "a = list(map(int, input().split()))\n",
    "b = list(map(int, input().split()))\n",
    "\n",
    "total = getTotalX(a, b)\n",
    "print(total)"
   ]
  },
  {
   "cell_type": "code",
   "execution_count": null,
   "metadata": {},
   "outputs": [],
   "source": []
  }
 ],
 "metadata": {
  "kernelspec": {
   "display_name": "Python 3",
   "language": "python",
   "name": "python3"
  },
  "language_info": {
   "codemirror_mode": {
    "name": "ipython",
    "version": 3
   },
   "file_extension": ".py",
   "mimetype": "text/x-python",
   "name": "python",
   "nbconvert_exporter": "python",
   "pygments_lexer": "ipython3",
   "version": "3.7.6"
  }
 },
 "nbformat": 4,
 "nbformat_minor": 4
}
