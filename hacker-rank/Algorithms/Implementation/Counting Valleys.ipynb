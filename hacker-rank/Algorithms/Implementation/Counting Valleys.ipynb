{
 "cells": [
  {
   "cell_type": "code",
   "execution_count": null,
   "metadata": {},
   "outputs": [],
   "source": [
    "def countingValleys(n, s):\n",
    "    level = 0\n",
    "    vallies = 0\n",
    "    in_valley = False  \n",
    "    for i in s:\n",
    "        if i == 'D':\n",
    "            level -= 1\n",
    "        elif i == 'U':\n",
    "            level += 1\n",
    "        \n",
    "        if level < 0 and not in_valley:\n",
    "            vallies += 1\n",
    "            in_valley = True\n",
    "        \n",
    "        elif level == 0:\n",
    "            in_valley = False\n",
    "    return vallies"
   ]
  }
 ],
 "metadata": {
  "kernelspec": {
   "display_name": "Python 3",
   "language": "python",
   "name": "python3"
  },
  "language_info": {
   "codemirror_mode": {
    "name": "ipython",
    "version": 3
   },
   "file_extension": ".py",
   "mimetype": "text/x-python",
   "name": "python",
   "nbconvert_exporter": "python",
   "pygments_lexer": "ipython3",
   "version": "3.7.6"
  }
 },
 "nbformat": 4,
 "nbformat_minor": 4
}
