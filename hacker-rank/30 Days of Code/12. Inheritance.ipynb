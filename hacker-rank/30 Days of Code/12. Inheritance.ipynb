{
 "cells": [
  {
   "cell_type": "code",
   "execution_count": null,
   "metadata": {},
   "outputs": [],
   "source": [
    "class Student (Person):\n",
    "    def __init__(self, firstName, lastName, idNumber, scores):\n",
    "        super().__init__(firstName, lastName, idNumber)\n",
    "        self.scores = scores\n",
    "\n",
    "    def calculate(self):\n",
    "        avg = sum(self.scores)/len(self.scores)\n",
    "        \n",
    "        if (avg>=90 and avg<=100):\n",
    "            grade = 'O'\n",
    "        elif(avg>=80 and avg<=90):\n",
    "            grade = 'E'\n",
    "        elif(avg>=70 and avg<=80):\n",
    "            grade = 'A'\n",
    "        elif(avg>=55 and avg<=75):\n",
    "            grade = 'P'\n",
    "        elif(avg>=40 and avg<=55):\n",
    "            grade = 'D'\n",
    "        elif(avg<40):\n",
    "            grade =  'T'\n",
    "        return grade"
   ]
  },
  {
   "cell_type": "code",
   "execution_count": null,
   "metadata": {},
   "outputs": [],
   "source": []
  }
 ],
 "metadata": {
  "kernelspec": {
   "display_name": "Python 3",
   "language": "python",
   "name": "python3"
  },
  "language_info": {
   "codemirror_mode": {
    "name": "ipython",
    "version": 3
   },
   "file_extension": ".py",
   "mimetype": "text/x-python",
   "name": "python",
   "nbconvert_exporter": "python",
   "pygments_lexer": "ipython3",
   "version": "3.7.6"
  }
 },
 "nbformat": 4,
 "nbformat_minor": 4
}
