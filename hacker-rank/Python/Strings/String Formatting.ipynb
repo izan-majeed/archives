{
 "cells": [
  {
   "cell_type": "code",
   "execution_count": null,
   "metadata": {},
   "outputs": [],
   "source": [
    "def print_formatted(number):\n",
    "    a = len(bin(number)[2:])\n",
    "    \n",
    "    for i in range(1,number+1):\n",
    "        decimal = i\n",
    "        octal = oct(i)[2:]\n",
    "        hexa = hex(i)[2:].upper()\n",
    "        binary = bin(i)[2:]\n",
    "        print(f\"{decimal:>{a}} {octal:>{a}} {hexa:>{a}} {binary:>{a}}\")"
   ]
  },
  {
   "cell_type": "code",
   "execution_count": null,
   "metadata": {},
   "outputs": [],
   "source": []
  }
 ],
 "metadata": {
  "kernelspec": {
   "display_name": "Python 3",
   "language": "python",
   "name": "python3"
  },
  "language_info": {
   "codemirror_mode": {
    "name": "ipython",
    "version": 3
   },
   "file_extension": ".py",
   "mimetype": "text/x-python",
   "name": "python",
   "nbconvert_exporter": "python",
   "pygments_lexer": "ipython3",
   "version": "3.7.6"
  }
 },
 "nbformat": 4,
 "nbformat_minor": 4
}
