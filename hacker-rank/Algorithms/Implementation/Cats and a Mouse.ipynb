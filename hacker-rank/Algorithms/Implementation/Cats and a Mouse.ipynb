{
 "cells": [
  {
   "cell_type": "code",
   "execution_count": null,
   "metadata": {},
   "outputs": [],
   "source": [
    "def catAndMouse(x, y, z):\n",
    "    x, y = abs(x-z), abs(y-z)\n",
    "    if x < y:\n",
    "        return \"Cat A\"\n",
    "    elif x > y:\n",
    "        return \"Cat B\"\n",
    "    return \"Mouse C\"\n",
    "\n",
    "\n",
    "for _ in range(int(input())):\n",
    "    x, y, z = map(int, input().split())\n",
    "    result = catAndMouse(x, y, z)\n",
    "    print(result)"
   ]
  },
  {
   "cell_type": "code",
   "execution_count": null,
   "metadata": {},
   "outputs": [],
   "source": []
  }
 ],
 "metadata": {
  "kernelspec": {
   "display_name": "Python 3",
   "language": "python",
   "name": "python3"
  },
  "language_info": {
   "codemirror_mode": {
    "name": "ipython",
    "version": 3
   },
   "file_extension": ".py",
   "mimetype": "text/x-python",
   "name": "python",
   "nbconvert_exporter": "python",
   "pygments_lexer": "ipython3",
   "version": "3.7.7"
  }
 },
 "nbformat": 4,
 "nbformat_minor": 4
}
