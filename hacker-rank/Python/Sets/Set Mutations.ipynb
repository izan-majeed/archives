{
 "cells": [
  {
   "cell_type": "code",
   "execution_count": null,
   "metadata": {},
   "outputs": [],
   "source": [
    "n_A = int(input())\n",
    "A = set(map(int, input().split()))\n",
    "n = int(input())\n",
    "\n",
    "for i in range(n):\n",
    "    op, operand = input().split()\n",
    "    operand = int(operand)\n",
    "\n",
    "    if (op.lower() == 'update'):\n",
    "        B = set(map(int, input().split()))\n",
    "        A.update(B)\n",
    "\n",
    "    if (op.lower() == 'intersection_update'):\n",
    "        B = set(map(int, input().split()))\n",
    "        A.intersection_update(B)\n",
    "\n",
    "    if (op.lower() == 'difference_update'):\n",
    "        B = set(map(int, input().split()))\n",
    "        A.difference_update(B)\n",
    "\n",
    "    if (op.lower() == 'symmetric_difference_update'):\n",
    "        B = set(map(int, input().split()))\n",
    "        A.symmetric_difference_update(B)\n",
    "\n",
    "print(sum(A))"
   ]
  },
  {
   "cell_type": "code",
   "execution_count": null,
   "metadata": {},
   "outputs": [],
   "source": []
  }
 ],
 "metadata": {
  "kernelspec": {
   "display_name": "Python 3",
   "language": "python",
   "name": "python3"
  },
  "language_info": {
   "codemirror_mode": {
    "name": "ipython",
    "version": 3
   },
   "file_extension": ".py",
   "mimetype": "text/x-python",
   "name": "python",
   "nbconvert_exporter": "python",
   "pygments_lexer": "ipython3",
   "version": "3.7.6"
  }
 },
 "nbformat": 4,
 "nbformat_minor": 4
}
