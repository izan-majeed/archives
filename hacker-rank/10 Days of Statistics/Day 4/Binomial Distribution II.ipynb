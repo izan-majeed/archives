{
 "cells": [
  {
   "cell_type": "code",
   "execution_count": null,
   "metadata": {},
   "outputs": [],
   "source": [
    "import math\n",
    "\n",
    "def nCr(n,r):\n",
    "    f = math.factorial\n",
    "    return f(n)/(f(r)*f(n-r))\n",
    "\n",
    "def b(x, n, p):\n",
    "    return nCr(n, x) * p**x * (1-p)**(n-x)\n",
    "\n",
    "p, n = map(float, input().split())\n",
    "p = p/100\n",
    "print(round(sum([b(i, n, p) for i in range(0, 3)]), 3))\n",
    "print(round(sum([b(i, n, p) for i in range(2, 11)]), 3))"
   ]
  },
  {
   "cell_type": "code",
   "execution_count": null,
   "metadata": {},
   "outputs": [],
   "source": []
  }
 ],
 "metadata": {
  "kernelspec": {
   "display_name": "Python 3",
   "language": "python",
   "name": "python3"
  },
  "language_info": {
   "codemirror_mode": {
    "name": "ipython",
    "version": 3
   },
   "file_extension": ".py",
   "mimetype": "text/x-python",
   "name": "python",
   "nbconvert_exporter": "python",
   "pygments_lexer": "ipython3",
   "version": "3.7.6"
  }
 },
 "nbformat": 4,
 "nbformat_minor": 4
}
