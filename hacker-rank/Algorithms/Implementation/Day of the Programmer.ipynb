{
 "cells": [
  {
   "cell_type": "code",
   "execution_count": null,
   "metadata": {},
   "outputs": [],
   "source": [
    "def dayOfProgrammer(year):\n",
    "    if year%4==0 and (year<1918 or year%400==0 or year%100!=0):\n",
    "        return f\"12.09.{year}\"\n",
    "\n",
    "    elif year == 1918:\n",
    "        return \"26.09.1918\"\n",
    "\n",
    "    return f\"13.09.{year}\"\n",
    "\n",
    "\n",
    "year = int(input().strip())\n",
    "result = dayOfProgrammer(year)\n",
    "print(result)"
   ]
  },
  {
   "cell_type": "code",
   "execution_count": null,
   "metadata": {},
   "outputs": [],
   "source": []
  }
 ],
 "metadata": {
  "kernelspec": {
   "display_name": "Python 3",
   "language": "python",
   "name": "python3"
  },
  "language_info": {
   "codemirror_mode": {
    "name": "ipython",
    "version": 3
   },
   "file_extension": ".py",
   "mimetype": "text/x-python",
   "name": "python",
   "nbconvert_exporter": "python",
   "pygments_lexer": "ipython3",
   "version": "3.7.7"
  }
 },
 "nbformat": 4,
 "nbformat_minor": 4
}
