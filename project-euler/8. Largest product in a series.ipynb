{
 "cells": [
  {
   "cell_type": "code",
   "execution_count": null,
   "metadata": {},
   "outputs": [],
   "source": [
    "from functools import reduce\n",
    "\n",
    "for _ in range(int(input())):\n",
    "    d, k = map(int, input().split())\n",
    "    num = input()\n",
    "    i = 0\n",
    "    l = []\n",
    "    result = 0\n",
    "    \n",
    "    while i<len(num):\n",
    "        x = num[i:i+k]\n",
    "        if len(x)==k:\n",
    "            l.append(x)\n",
    "            i += 1\n",
    "        else: break\n",
    "    \n",
    "    for i in l:\n",
    "            i = list(map(int, list(i)))\n",
    "            result = max(result, reduce(lambda x,y: x*y, i, 1))\n",
    "            \n",
    "    print(result)"
   ]
  },
  {
   "cell_type": "code",
   "execution_count": null,
   "metadata": {},
   "outputs": [],
   "source": []
  }
 ],
 "metadata": {
  "kernelspec": {
   "display_name": "Python 3",
   "language": "python",
   "name": "python3"
  },
  "language_info": {
   "codemirror_mode": {
    "name": "ipython",
    "version": 3
   },
   "file_extension": ".py",
   "mimetype": "text/x-python",
   "name": "python",
   "nbconvert_exporter": "python",
   "pygments_lexer": "ipython3",
   "version": "3.7.4"
  }
 },
 "nbformat": 4,
 "nbformat_minor": 4
}
