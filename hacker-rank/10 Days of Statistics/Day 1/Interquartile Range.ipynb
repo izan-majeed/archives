{
 "cells": [
  {
   "cell_type": "code",
   "execution_count": 18,
   "metadata": {},
   "outputs": [
    {
     "name": "stdout",
     "output_type": "stream",
     "text": [
      "6\n",
      "6 12 8 10 20 16\n",
      "5 4 3 2 1 5\n",
      "9.0\n"
     ]
    }
   ],
   "source": [
    "from statistics import median\n",
    "\n",
    "n = int(input())\n",
    "X = list(map(float, input().split()))\n",
    "F = list(map(int, input().split()))\n",
    "A = sorted([X[i] for i in range(n) for _ in range(F[i])])\n",
    "\n",
    "m = len(A)\n",
    "q1 = median(A[:m//2])\n",
    "q3 = median(A[(m+1)//2:])\n",
    "\n",
    "print(q3-q1)"
   ]
  },
  {
   "cell_type": "code",
   "execution_count": null,
   "metadata": {},
   "outputs": [],
   "source": []
  }
 ],
 "metadata": {
  "kernelspec": {
   "display_name": "Python 3",
   "language": "python",
   "name": "python3"
  },
  "language_info": {
   "codemirror_mode": {
    "name": "ipython",
    "version": 3
   },
   "file_extension": ".py",
   "mimetype": "text/x-python",
   "name": "python",
   "nbconvert_exporter": "python",
   "pygments_lexer": "ipython3",
   "version": "3.7.6"
  }
 },
 "nbformat": 4,
 "nbformat_minor": 4
}
