{
 "cells": [
  {
   "cell_type": "code",
   "execution_count": null,
   "metadata": {},
   "outputs": [],
   "source": [
    "import re\n",
    "\n",
    "for _ in range(int(input())):\n",
    "    text = input()\n",
    "    pattern = r'^(?!.*(.).*\\1)(?=(?:(.*[A-Z]){2,}))(?=(?:(.*\\d){3,}))[a-zA-Z0-9]{10}$'\n",
    "    \n",
    "    print('Valid' if re.search(pattern, text) else 'Invalid')"
   ]
  },
  {
   "cell_type": "markdown",
   "metadata": {},
   "source": [
    "^(?!.*(.).*\\1)\n",
    "<b>no repeated alnums</b>\n",
    "\n",
    "<br>\n",
    "(?=(?:(.*[A-Z]){2,}))\n",
    "<b>at least 2 uppercase</b>\n",
    "\n",
    "<br>\n",
    "\n",
    "(?=(?:(.*\\d){3,}))\n",
    "<b>at least 3 digits</b>\n",
    "\n",
    "<br>\n",
    "[a-zA-Z0-9]{10}$\n",
    "<b>exactly 10 alphanums</b>"
   ]
  },
  {
   "cell_type": "code",
   "execution_count": null,
   "metadata": {},
   "outputs": [],
   "source": []
  }
 ],
 "metadata": {
  "kernelspec": {
   "display_name": "Python 3",
   "language": "python",
   "name": "python3"
  },
  "language_info": {
   "codemirror_mode": {
    "name": "ipython",
    "version": 3
   },
   "file_extension": ".py",
   "mimetype": "text/x-python",
   "name": "python",
   "nbconvert_exporter": "python",
   "pygments_lexer": "ipython3",
   "version": "3.7.6"
  }
 },
 "nbformat": 4,
 "nbformat_minor": 4
}
