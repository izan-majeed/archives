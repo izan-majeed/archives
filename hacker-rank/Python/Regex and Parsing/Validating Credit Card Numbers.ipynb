{
 "cells": [
  {
   "cell_type": "code",
   "execution_count": null,
   "metadata": {},
   "outputs": [],
   "source": [
    "import re\n",
    "\n",
    "for _ in range(int(input())):\n",
    "    text = input()\n",
    "    pattern = r\"^[456]([\\d]{15}|[\\d]{3}(-[\\d]{4}){3})$\"\n",
    "    mo = re.search(pattern, text)\n",
    "    repeat = re.search(r\"([\\d])\\1\\1\\1\", text.replace(\"-\", \"\"))\n",
    "    \n",
    "    print('Valid' if mo and not repeat else 'Invalid')"
   ]
  },
  {
   "cell_type": "code",
   "execution_count": null,
   "metadata": {},
   "outputs": [],
   "source": []
  },
  {
   "cell_type": "markdown",
   "metadata": {},
   "source": [
    "\\1 is a backreference, it matches, whatever is matched in brackets."
   ]
  },
  {
   "cell_type": "code",
   "execution_count": null,
   "metadata": {},
   "outputs": [],
   "source": []
  }
 ],
 "metadata": {
  "kernelspec": {
   "display_name": "Python 3",
   "language": "python",
   "name": "python3"
  },
  "language_info": {
   "codemirror_mode": {
    "name": "ipython",
    "version": 3
   },
   "file_extension": ".py",
   "mimetype": "text/x-python",
   "name": "python",
   "nbconvert_exporter": "python",
   "pygments_lexer": "ipython3",
   "version": "3.7.6"
  }
 },
 "nbformat": 4,
 "nbformat_minor": 4
}
