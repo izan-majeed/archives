{
 "cells": [
  {
   "cell_type": "code",
   "execution_count": null,
   "metadata": {},
   "outputs": [],
   "source": [
    "size = int(input())\n",
    "rooms = sorted(list(map(int, input().split())))\n",
    "no_of_groups = len(rooms)//size\n",
    "\n",
    "for i in range(len(rooms)):\n",
    "    if i==len(rooms)-size+1:\n",
    "        print(rooms[-1])\n",
    "        break\n",
    "            \n",
    "    if rooms[i] == rooms[i+1]:\n",
    "        continue\n",
    "\n",
    "    elif (rooms[i] != rooms[i+1] and rooms[i+1] != rooms[i+2]):\n",
    "        print(rooms[i+1])\n",
    "        break"
   ]
  },
  {
   "cell_type": "code",
   "execution_count": null,
   "metadata": {},
   "outputs": [],
   "source": []
  }
 ],
 "metadata": {
  "kernelspec": {
   "display_name": "Python 3",
   "language": "python",
   "name": "python3"
  },
  "language_info": {
   "codemirror_mode": {
    "name": "ipython",
    "version": 3
   },
   "file_extension": ".py",
   "mimetype": "text/x-python",
   "name": "python",
   "nbconvert_exporter": "python",
   "pygments_lexer": "ipython3",
   "version": "3.7.6"
  }
 },
 "nbformat": 4,
 "nbformat_minor": 4
}
