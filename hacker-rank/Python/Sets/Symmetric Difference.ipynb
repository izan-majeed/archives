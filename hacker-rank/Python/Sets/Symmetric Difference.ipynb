{
 "cells": [
  {
   "cell_type": "code",
   "execution_count": null,
   "metadata": {},
   "outputs": [],
   "source": [
    "na = int(input())\n",
    "a = set(map(int, input().split()))\n",
    "nb = int(input())\n",
    "b = set(map(int, input().split()))\n",
    "\n",
    "amb = a.difference(b)\n",
    "bma = b.difference(a)\n",
    "sd = sorted(list(amb.union(bma)))\n",
    "for i in sd:\n",
    "    print(i)"
   ]
  },
  {
   "cell_type": "code",
   "execution_count": null,
   "metadata": {},
   "outputs": [],
   "source": []
  }
 ],
 "metadata": {
  "kernelspec": {
   "display_name": "Python 3",
   "language": "python",
   "name": "python3"
  },
  "language_info": {
   "codemirror_mode": {
    "name": "ipython",
    "version": 3
   },
   "file_extension": ".py",
   "mimetype": "text/x-python",
   "name": "python",
   "nbconvert_exporter": "python",
   "pygments_lexer": "ipython3",
   "version": "3.7.6"
  }
 },
 "nbformat": 4,
 "nbformat_minor": 4
}
