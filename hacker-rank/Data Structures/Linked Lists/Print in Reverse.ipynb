{
 "cells": [
  {
   "cell_type": "code",
   "execution_count": null,
   "metadata": {},
   "outputs": [],
   "source": [
    "def reverse(head):\n",
    "    stack = []\n",
    "    while head.next:\n",
    "        stack.append(head)\n",
    "        head = head.next\n",
    "        \n",
    "    new_head = head\n",
    "    while len(stack)>0:\n",
    "        head.next = stack.pop()\n",
    "        head = head.next\n",
    "        \n",
    "    head.next = None\n",
    "    del(head)\n",
    "    return new_head"
   ]
  },
  {
   "cell_type": "code",
   "execution_count": null,
   "metadata": {},
   "outputs": [],
   "source": [
    "#recursive solution would be shorter"
   ]
  }
 ],
 "metadata": {
  "kernelspec": {
   "display_name": "Python 3",
   "language": "python",
   "name": "python3"
  },
  "language_info": {
   "codemirror_mode": {
    "name": "ipython",
    "version": 3
   },
   "file_extension": ".py",
   "mimetype": "text/x-python",
   "name": "python",
   "nbconvert_exporter": "python",
   "pygments_lexer": "ipython3",
   "version": "3.7.4"
  }
 },
 "nbformat": 4,
 "nbformat_minor": 2
}
