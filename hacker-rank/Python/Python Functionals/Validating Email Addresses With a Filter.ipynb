{
 "cells": [
  {
   "cell_type": "code",
   "execution_count": null,
   "metadata": {},
   "outputs": [],
   "source": [
    "def fun(s):\n",
    "    try:\n",
    "        u, x = s.split(\"@\")\n",
    "        w, e = x.split(\".\")\n",
    "        \n",
    "    except:\n",
    "        return False\n",
    "\n",
    "    if len(e)<4 and w.isalnum():\n",
    "        if ('_' not in u or '-' not in u) and u.isalnum():\n",
    "            return True\n",
    "        \n",
    "        if u.replace('-','').replace('_','').isalnum():\n",
    "            return True\n",
    "        \n",
    "    return False"
   ]
  },
  {
   "cell_type": "code",
   "execution_count": null,
   "metadata": {},
   "outputs": [],
   "source": []
  }
 ],
 "metadata": {
  "kernelspec": {
   "display_name": "Python 3",
   "language": "python",
   "name": "python3"
  },
  "language_info": {
   "codemirror_mode": {
    "name": "ipython",
    "version": 3
   },
   "file_extension": ".py",
   "mimetype": "text/x-python",
   "name": "python",
   "nbconvert_exporter": "python",
   "pygments_lexer": "ipython3",
   "version": "3.7.6"
  }
 },
 "nbformat": 4,
 "nbformat_minor": 4
}
