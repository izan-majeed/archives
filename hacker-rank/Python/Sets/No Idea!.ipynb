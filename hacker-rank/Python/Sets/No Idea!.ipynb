{
 "cells": [
  {
   "cell_type": "code",
   "execution_count": null,
   "metadata": {},
   "outputs": [],
   "source": [
    "n, m = map(int, input().split())\n",
    "arr = list(map(int, input().strip().split(' ')))\n",
    "a = set(map(int, input().strip().split(' ')))\n",
    "b = set(map(int, input().strip().split(' ')))\n",
    "happiness = 0\n",
    "for i in arr:\n",
    "    if i in a:\n",
    "        happiness += 1\n",
    "    if i in b:\n",
    "        happiness -= 1\n",
    "print(happiness)"
   ]
  },
  {
   "cell_type": "code",
   "execution_count": null,
   "metadata": {},
   "outputs": [],
   "source": []
  }
 ],
 "metadata": {
  "kernelspec": {
   "display_name": "Python 3",
   "language": "python",
   "name": "python3"
  },
  "language_info": {
   "codemirror_mode": {
    "name": "ipython",
    "version": 3
   },
   "file_extension": ".py",
   "mimetype": "text/x-python",
   "name": "python",
   "nbconvert_exporter": "python",
   "pygments_lexer": "ipython3",
   "version": "3.7.6"
  }
 },
 "nbformat": 4,
 "nbformat_minor": 4
}
