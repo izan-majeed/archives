{
 "cells": [
  {
   "cell_type": "code",
   "execution_count": null,
   "metadata": {},
   "outputs": [],
   "source": [
    "def arrayManipulation(n, m):\n",
    "    a = [0 for _ in range(n+1)]\n",
    "    for _ in range(m):\n",
    "        start, end, value = map(int, input().split())\n",
    "        a[start-1] += value\n",
    "        a[end] -= value\n",
    "        \n",
    "    x = temp = 0\n",
    "    for i in a:\n",
    "        temp += i;\n",
    "        if (x<temp): x=temp\n",
    "    return x\n",
    "\n",
    "n, m = map(int, input().split())  \n",
    "result = arrayManipulation(n, m)\n",
    "print(result)"
   ]
  },
  {
   "cell_type": "code",
   "execution_count": null,
   "metadata": {},
   "outputs": [],
   "source": []
  }
 ],
 "metadata": {
  "kernelspec": {
   "display_name": "Python 3",
   "language": "python",
   "name": "python3"
  },
  "language_info": {
   "codemirror_mode": {
    "name": "ipython",
    "version": 3
   },
   "file_extension": ".py",
   "mimetype": "text/x-python",
   "name": "python",
   "nbconvert_exporter": "python",
   "pygments_lexer": "ipython3",
   "version": "3.7.6"
  }
 },
 "nbformat": 4,
 "nbformat_minor": 4
}
