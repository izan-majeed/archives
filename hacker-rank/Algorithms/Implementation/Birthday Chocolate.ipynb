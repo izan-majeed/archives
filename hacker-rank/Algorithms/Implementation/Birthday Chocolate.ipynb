{
 "cells": [
  {
   "cell_type": "code",
   "execution_count": null,
   "metadata": {},
   "outputs": [],
   "source": [
    "def birthday(s, d, m):\n",
    "    cur_sum = 0\n",
    "    ways = 0\n",
    "    \n",
    "    for i in range(len(s)):\n",
    "        cur_sum += s[i]\n",
    "        if (i >= m-1):\n",
    "            if cur_sum == d:\n",
    "                ways += 1\n",
    "            cur_sum -= s[i-(m-1)]\n",
    "    return ways\n",
    "\n",
    "\n",
    "n = int(input())\n",
    "s = list(map(int, input().split()))\n",
    "d, m = map(int, input().split())\n",
    "result = birthday(s, d, m)\n",
    "print(result)"
   ]
  },
  {
   "cell_type": "code",
   "execution_count": null,
   "metadata": {},
   "outputs": [],
   "source": []
  }
 ],
 "metadata": {
  "kernelspec": {
   "display_name": "Python 3",
   "language": "python",
   "name": "python3"
  },
  "language_info": {
   "codemirror_mode": {
    "name": "ipython",
    "version": 3
   },
   "file_extension": ".py",
   "mimetype": "text/x-python",
   "name": "python",
   "nbconvert_exporter": "python",
   "pygments_lexer": "ipython3",
   "version": "3.7.6"
  }
 },
 "nbformat": 4,
 "nbformat_minor": 4
}
