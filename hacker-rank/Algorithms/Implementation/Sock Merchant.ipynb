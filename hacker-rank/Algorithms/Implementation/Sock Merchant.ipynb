{
 "cells": [
  {
   "cell_type": "code",
   "execution_count": null,
   "metadata": {},
   "outputs": [],
   "source": [
    "def sockMerchant(n, ar):\n",
    "    count = {}\n",
    "    sum = 0\n",
    "\n",
    "    for i in ar:\n",
    "        count.setdefault(i, 0)\n",
    "        count[i] += 1\n",
    "\n",
    "    for i in count.values():\n",
    "        sum += (i//2)\n",
    "    \n",
    "    return sum"
   ]
  }
 ],
 "metadata": {
  "kernelspec": {
   "display_name": "Python 3",
   "language": "python",
   "name": "python3"
  },
  "language_info": {
   "codemirror_mode": {
    "name": "ipython",
    "version": 3
   },
   "file_extension": ".py",
   "mimetype": "text/x-python",
   "name": "python",
   "nbconvert_exporter": "python",
   "pygments_lexer": "ipython3",
   "version": "3.7.6"
  }
 },
 "nbformat": 4,
 "nbformat_minor": 4
}
