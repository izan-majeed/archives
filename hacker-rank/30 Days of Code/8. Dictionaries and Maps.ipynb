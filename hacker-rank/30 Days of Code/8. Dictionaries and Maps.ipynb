{
 "cells": [
  {
   "cell_type": "code",
   "execution_count": null,
   "metadata": {},
   "outputs": [],
   "source": [
    "n = int(input())\n",
    "my_dict = {}\n",
    "\n",
    "for i in range(n):\n",
    "    name, phone = input().strip().split()\n",
    "    my_dict[name] = int(phone)\n",
    "\n",
    "for i in range(n):\n",
    "    try:\n",
    "        query = input()\n",
    "        if query in my_dict:\n",
    "            print(f'{query}={my_dict[query]}')\n",
    "        else:\n",
    "            print(\"Not found\")\n",
    "    except:\n",
    "        break"
   ]
  },
  {
   "cell_type": "code",
   "execution_count": null,
   "metadata": {},
   "outputs": [],
   "source": []
  }
 ],
 "metadata": {
  "kernelspec": {
   "display_name": "Python 3",
   "language": "python",
   "name": "python3"
  },
  "language_info": {
   "codemirror_mode": {
    "name": "ipython",
    "version": 3
   },
   "file_extension": ".py",
   "mimetype": "text/x-python",
   "name": "python",
   "nbconvert_exporter": "python",
   "pygments_lexer": "ipython3",
   "version": "3.7.6"
  }
 },
 "nbformat": 4,
 "nbformat_minor": 4
}
