{
 "cells": [
  {
   "cell_type": "code",
   "execution_count": 26,
   "metadata": {},
   "outputs": [
    {
     "name": "stdout",
     "output_type": "stream",
     "text": [
      "1\n",
      "Sun 10 May 2015 13:54:36 -0700\n",
      "Sun 10 May 2015 13:54:36 -0000\n",
      "25200\n",
      "None\n"
     ]
    }
   ],
   "source": [
    "#https://docs.python.org/2/library/datetime.html#strftime-and-strptime-behavior\n",
    "from datetime import datetime\n",
    "\n",
    "def time_delta(t1, t2):\n",
    "    t1 = datetime.strptime(t1,'%a %d %b %Y %H:%M:%S %z')\n",
    "    t2 = datetime.strptime(t2,'%a %d %b %Y %H:%M:%S %z')\n",
    "    result = int(abs((t1-t2).total_seconds()))\n",
    "    return result\n",
    "\n",
    "t = int(input())\n",
    "for _ in range(t):\n",
    "    t1 = input()\n",
    "    t2 = input()\n",
    "    delta = time_delta(t1, t2)\n",
    "    print(delta)"
   ]
  },
  {
   "cell_type": "code",
   "execution_count": null,
   "metadata": {},
   "outputs": [],
   "source": []
  }
 ],
 "metadata": {
  "kernelspec": {
   "display_name": "Python 3",
   "language": "python",
   "name": "python3"
  },
  "language_info": {
   "codemirror_mode": {
    "name": "ipython",
    "version": 3
   },
   "file_extension": ".py",
   "mimetype": "text/x-python",
   "name": "python",
   "nbconvert_exporter": "python",
   "pygments_lexer": "ipython3",
   "version": "3.7.6"
  }
 },
 "nbformat": 4,
 "nbformat_minor": 4
}
