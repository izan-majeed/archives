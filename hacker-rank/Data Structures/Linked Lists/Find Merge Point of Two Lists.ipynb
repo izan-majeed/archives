{
 "cells": [
  {
   "cell_type": "code",
   "execution_count": null,
   "metadata": {},
   "outputs": [],
   "source": [
    "def findMergeNode(head1, head2):\n",
    "    temp1 = head1\n",
    "    temp2 = head2\n",
    "\n",
    "    while temp1 != temp2:\n",
    "        temp1 = temp1.next if temp1.next else head2\n",
    "        temp2 = temp2.next if temp2.next else head1\n",
    "    \n",
    "    return temp2.data"
   ]
  },
  {
   "cell_type": "code",
   "execution_count": null,
   "metadata": {},
   "outputs": [],
   "source": []
  }
 ],
 "metadata": {
  "kernelspec": {
   "display_name": "Python 3",
   "language": "python",
   "name": "python3"
  },
  "language_info": {
   "codemirror_mode": {
    "name": "ipython",
    "version": 3
   },
   "file_extension": ".py",
   "mimetype": "text/x-python",
   "name": "python",
   "nbconvert_exporter": "python",
   "pygments_lexer": "ipython3",
   "version": "3.7.7"
  }
 },
 "nbformat": 4,
 "nbformat_minor": 4
}
