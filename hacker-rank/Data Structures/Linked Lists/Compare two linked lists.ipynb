{
 "cells": [
  {
   "cell_type": "code",
   "execution_count": null,
   "metadata": {},
   "outputs": [],
   "source": [
    "def compare_lists(head1, head2):\n",
    "    temp1, temp2 = head1, head2\n",
    "    \n",
    "    while temp1 or temp2:\n",
    "        if not temp1 or not temp2: return 0\n",
    "        if temp1.data != temp2.data: return 0\n",
    "        temp1 = temp1.next\n",
    "        temp2 = temp2.next\n",
    "\n",
    "    return 1"
   ]
  },
  {
   "cell_type": "code",
   "execution_count": null,
   "metadata": {},
   "outputs": [],
   "source": []
  }
 ],
 "metadata": {
  "kernelspec": {
   "display_name": "Python 3",
   "language": "python",
   "name": "python3"
  },
  "language_info": {
   "codemirror_mode": {
    "name": "ipython",
    "version": 3
   },
   "file_extension": ".py",
   "mimetype": "text/x-python",
   "name": "python",
   "nbconvert_exporter": "python",
   "pygments_lexer": "ipython3",
   "version": "3.7.4"
  }
 },
 "nbformat": 4,
 "nbformat_minor": 2
}
