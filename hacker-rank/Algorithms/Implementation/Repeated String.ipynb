{
 "cells": [
  {
   "cell_type": "code",
   "execution_count": null,
   "metadata": {},
   "outputs": [],
   "source": [
    "def repeatedString(s, n):\n",
    "    count = 0\n",
    "    for i in s:\n",
    "        if i == 'a':\n",
    "            count+=1\n",
    "       \n",
    "    x = n//len(s)\n",
    "    count *= x\n",
    "    \n",
    "    y = n%len(s)\n",
    "    for i in range(y):\n",
    "        if s[i] == 'a':\n",
    "            count+=1\n",
    "            \n",
    "    return count"
   ]
  }
 ],
 "metadata": {
  "kernelspec": {
   "display_name": "Python 3",
   "language": "python",
   "name": "python3"
  },
  "language_info": {
   "codemirror_mode": {
    "name": "ipython",
    "version": 3
   },
   "file_extension": ".py",
   "mimetype": "text/x-python",
   "name": "python",
   "nbconvert_exporter": "python",
   "pygments_lexer": "ipython3",
   "version": "3.7.6"
  }
 },
 "nbformat": 4,
 "nbformat_minor": 4
}
