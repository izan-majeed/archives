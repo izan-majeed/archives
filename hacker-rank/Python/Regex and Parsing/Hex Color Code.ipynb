{
 "cells": [
  {
   "cell_type": "code",
   "execution_count": null,
   "metadata": {},
   "outputs": [],
   "source": [
    "import re\n",
    "\n",
    "for _ in range(int(input())):\n",
    "    pattern = r'(?<!^)(#(?:[\\da-f]{3}){1,2})'\n",
    "    text = input()\n",
    "    result = re.findall(pattern, text, re.I)\n",
    "    if len(result)>0:\n",
    "        print(*result, sep='\\n')\n",
    "\n",
    "#?<! is negative lookbehind assertion\n",
    "#e.g (?:a{6})* matches any multiple of six 'a' characters"
   ]
  },
  {
   "cell_type": "code",
   "execution_count": null,
   "metadata": {},
   "outputs": [],
   "source": []
  }
 ],
 "metadata": {
  "kernelspec": {
   "display_name": "Python 3",
   "language": "python",
   "name": "python3"
  },
  "language_info": {
   "codemirror_mode": {
    "name": "ipython",
    "version": 3
   },
   "file_extension": ".py",
   "mimetype": "text/x-python",
   "name": "python",
   "nbconvert_exporter": "python",
   "pygments_lexer": "ipython3",
   "version": "3.7.6"
  }
 },
 "nbformat": 4,
 "nbformat_minor": 4
}
