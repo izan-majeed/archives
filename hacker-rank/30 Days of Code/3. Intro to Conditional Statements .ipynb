{
 "cells": [
  {
   "cell_type": "code",
   "execution_count": null,
   "metadata": {},
   "outputs": [],
   "source": [
    "import math\n",
    "\n",
    "if __name__ == '__main__':\n",
    "    N = int(input())\n",
    "    if N%2==0:\n",
    "        if N in range(6, 21):\n",
    "            print(\"Weird\")\n",
    "        else:\n",
    "            print(\"Not Weird\")\n",
    "    else:\n",
    "        print('Weird')"
   ]
  },
  {
   "cell_type": "code",
   "execution_count": null,
   "metadata": {},
   "outputs": [],
   "source": []
  }
 ],
 "metadata": {
  "kernelspec": {
   "display_name": "Python 3",
   "language": "python",
   "name": "python3"
  },
  "language_info": {
   "codemirror_mode": {
    "name": "ipython",
    "version": 3
   },
   "file_extension": ".py",
   "mimetype": "text/x-python",
   "name": "python",
   "nbconvert_exporter": "python",
   "pygments_lexer": "ipython3",
   "version": "3.7.6"
  }
 },
 "nbformat": 4,
 "nbformat_minor": 4
}
